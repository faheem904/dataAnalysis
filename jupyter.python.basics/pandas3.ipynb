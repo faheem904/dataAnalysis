{
 "cells": [
  {
   "cell_type": "code",
   "execution_count": 1,
   "id": "2f4f2534",
   "metadata": {},
   "outputs": [],
   "source": [
    "import pandas as pd"
   ]
  },
  {
   "cell_type": "code",
   "execution_count": 42,
   "id": "b0a3e34c",
   "metadata": {},
   "outputs": [],
   "source": [
    "s1 = pd.Series([4, 5, 6, 7, 8, 9])"
   ]
  },
  {
   "cell_type": "code",
   "execution_count": 47,
   "id": "fef6cef8",
   "metadata": {},
   "outputs": [
    {
     "data": {
      "text/plain": [
       "5"
      ]
     },
     "execution_count": 47,
     "metadata": {},
     "output_type": "execute_result"
    }
   ],
   "source": [
    "# Extracting a single element\n",
    "s1[3]"
   ]
  },
  {
   "cell_type": "code",
   "execution_count": 48,
   "id": "dcb38be7",
   "metadata": {},
   "outputs": [],
   "source": [
    "s1 = pd.Series([1,3,4,5,6,7,8,9,10,11,12,12,13])"
   ]
  },
  {
   "cell_type": "code",
   "execution_count": 49,
   "id": "83da3df7",
   "metadata": {},
   "outputs": [
    {
     "data": {
      "text/plain": [
       "0    1\n",
       "1    3\n",
       "2    4\n",
       "3    5\n",
       "dtype: int64"
      ]
     },
     "execution_count": 49,
     "metadata": {},
     "output_type": "execute_result"
    }
   ],
   "source": [
    "# Extracting a sequence of elements\n",
    "s1[:4]"
   ]
  },
  {
   "cell_type": "code",
   "execution_count": 50,
   "id": "c9773509",
   "metadata": {},
   "outputs": [
    {
     "data": {
      "text/plain": [
       "10    12\n",
       "11    12\n",
       "12    13\n",
       "dtype: int64"
      ]
     },
     "execution_count": 50,
     "metadata": {},
     "output_type": "execute_result"
    }
   ],
   "source": [
    "#Extracting from last\n",
    "s1[-3:]"
   ]
  },
  {
   "cell_type": "code",
   "execution_count": 51,
   "id": "622ee7ef",
   "metadata": {},
   "outputs": [],
   "source": [
    "l1 = [1,2,3,4,5,6,7,8,9]"
   ]
  },
  {
   "cell_type": "code",
   "execution_count": 52,
   "id": "66f26e2f",
   "metadata": {},
   "outputs": [],
   "source": [
    "l1_s = pd.Series(l1)"
   ]
  },
  {
   "cell_type": "code",
   "execution_count": 53,
   "id": "704bde03",
   "metadata": {},
   "outputs": [
    {
     "data": {
      "text/plain": [
       "0    1\n",
       "1    2\n",
       "2    3\n",
       "3    4\n",
       "4    5\n",
       "5    6\n",
       "6    7\n",
       "7    8\n",
       "8    9\n",
       "dtype: int64"
      ]
     },
     "execution_count": 53,
     "metadata": {},
     "output_type": "execute_result"
    }
   ],
   "source": [
    "l1_s"
   ]
  },
  {
   "cell_type": "code",
   "execution_count": 56,
   "id": "a2c287e3",
   "metadata": {},
   "outputs": [
    {
     "data": {
      "text/plain": [
       "1    2\n",
       "2    3\n",
       "3    4\n",
       "4    5\n",
       "5    6\n",
       "6    7\n",
       "7    8\n",
       "8    9\n",
       "dtype: int64"
      ]
     },
     "execution_count": 56,
     "metadata": {},
     "output_type": "execute_result"
    }
   ],
   "source": [
    "l1_s[1:]"
   ]
  },
  {
   "cell_type": "code",
   "execution_count": 57,
   "id": "572671ad",
   "metadata": {},
   "outputs": [
    {
     "data": {
      "text/plain": [
       "0      1\n",
       "1      3\n",
       "2      4\n",
       "3      5\n",
       "4      6\n",
       "5      7\n",
       "6      8\n",
       "7      9\n",
       "8     10\n",
       "9     11\n",
       "10    12\n",
       "11    12\n",
       "12    13\n",
       "dtype: int64"
      ]
     },
     "execution_count": 57,
     "metadata": {},
     "output_type": "execute_result"
    }
   ],
   "source": [
    "s1"
   ]
  },
  {
   "cell_type": "code",
   "execution_count": 58,
   "id": "a2e44607",
   "metadata": {},
   "outputs": [
    {
     "data": {
      "text/plain": [
       "0      6\n",
       "1      8\n",
       "2      9\n",
       "3     10\n",
       "4     11\n",
       "5     12\n",
       "6     13\n",
       "7     14\n",
       "8     15\n",
       "9     16\n",
       "10    17\n",
       "11    17\n",
       "12    18\n",
       "dtype: int64"
      ]
     },
     "execution_count": 58,
     "metadata": {},
     "output_type": "execute_result"
    }
   ],
   "source": [
    "s1+5"
   ]
  },
  {
   "cell_type": "markdown",
   "id": "bb378f8b",
   "metadata": {},
   "source": [
    "# "
   ]
  }
 ],
 "metadata": {
  "kernelspec": {
   "display_name": "Python 3 (ipykernel)",
   "language": "python",
   "name": "python3"
  },
  "language_info": {
   "codemirror_mode": {
    "name": "ipython",
    "version": 3
   },
   "file_extension": ".py",
   "mimetype": "text/x-python",
   "name": "python",
   "nbconvert_exporter": "python",
   "pygments_lexer": "ipython3",
   "version": "3.8.10"
  }
 },
 "nbformat": 4,
 "nbformat_minor": 5
}
