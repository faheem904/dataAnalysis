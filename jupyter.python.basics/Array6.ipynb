{
 "cells": [
  {
   "cell_type": "code",
   "execution_count": 9,
   "id": "6df7a2f7",
   "metadata": {},
   "outputs": [],
   "source": [
    "# INTERSECTION & DIFFERENCE"
   ]
  },
  {
   "cell_type": "code",
   "execution_count": 10,
   "id": "c58e3c93",
   "metadata": {},
   "outputs": [],
   "source": [
    "import numpy as np\n",
    "n1 = np.array([10, 20, 30, 40, 50, 60])\n",
    "n2 = np.array([50, 60, 70, 80, 90])"
   ]
  },
  {
   "cell_type": "code",
   "execution_count": 11,
   "id": "543ad5d1",
   "metadata": {},
   "outputs": [
    {
     "data": {
      "text/plain": [
       "array([50, 60])"
      ]
     },
     "execution_count": 11,
     "metadata": {},
     "output_type": "execute_result"
    }
   ],
   "source": [
    "np.intersect1d(n1, n2)"
   ]
  },
  {
   "cell_type": "code",
   "execution_count": 13,
   "id": "43673fcd",
   "metadata": {},
   "outputs": [
    {
     "data": {
      "text/plain": [
       "array([10, 20, 30, 40])"
      ]
     },
     "execution_count": 13,
     "metadata": {},
     "output_type": "execute_result"
    }
   ],
   "source": [
    "np.setdiff1d(n1, n2)"
   ]
  },
  {
   "cell_type": "code",
   "execution_count": 17,
   "id": "da44b431",
   "metadata": {},
   "outputs": [
    {
     "data": {
      "text/plain": [
       "array([70, 80, 90])"
      ]
     },
     "execution_count": 17,
     "metadata": {},
     "output_type": "execute_result"
    }
   ],
   "source": [
    "np.setdiff1d(n2, n1)"
   ]
  },
  {
   "cell_type": "code",
   "execution_count": 18,
   "id": "d07e2eef",
   "metadata": {},
   "outputs": [],
   "source": [
    "#ADDITION OF NUMPY ARRAYS\n",
    "#axis 0 addition in columns\n",
    "#axis 1 addition in rows"
   ]
  },
  {
   "cell_type": "code",
   "execution_count": 19,
   "id": "75b0350c",
   "metadata": {},
   "outputs": [],
   "source": [
    "import numpy as np\n",
    "n1=np.array([10,20])\n",
    "n2=np.array([30,40])"
   ]
  },
  {
   "cell_type": "code",
   "execution_count": 20,
   "id": "53805a2f",
   "metadata": {},
   "outputs": [
    {
     "data": {
      "text/plain": [
       "100"
      ]
     },
     "execution_count": 20,
     "metadata": {},
     "output_type": "execute_result"
    }
   ],
   "source": [
    "np.sum([n1, n2])"
   ]
  },
  {
   "cell_type": "code",
   "execution_count": 21,
   "id": "143d7f13",
   "metadata": {},
   "outputs": [
    {
     "data": {
      "text/plain": [
       "array([40, 60])"
      ]
     },
     "execution_count": 21,
     "metadata": {},
     "output_type": "execute_result"
    }
   ],
   "source": [
    "np.sum([n1,n2],axis=0)"
   ]
  },
  {
   "cell_type": "code",
   "execution_count": 22,
   "id": "3d1558b1",
   "metadata": {},
   "outputs": [
    {
     "data": {
      "text/plain": [
       "array([30, 70])"
      ]
     },
     "execution_count": 22,
     "metadata": {},
     "output_type": "execute_result"
    }
   ],
   "source": [
    "np.sum([n1, n2], axis=1)"
   ]
  },
  {
   "cell_type": "code",
   "execution_count": 23,
   "id": "dbe98b0e",
   "metadata": {},
   "outputs": [],
   "source": [
    "#BASIC ADDITION"
   ]
  },
  {
   "cell_type": "code",
   "execution_count": 24,
   "id": "6a3d394f",
   "metadata": {},
   "outputs": [
    {
     "data": {
      "text/plain": [
       "array([11, 21, 31])"
      ]
     },
     "execution_count": 24,
     "metadata": {},
     "output_type": "execute_result"
    }
   ],
   "source": [
    "import numpy as np\n",
    "n1=np.array([10, 20, 30])\n",
    "n1=n1+1\n",
    "n1"
   ]
  },
  {
   "cell_type": "code",
   "execution_count": 25,
   "id": "6f95b1da",
   "metadata": {},
   "outputs": [],
   "source": [
    "#BASIC SUBSTRACTION"
   ]
  },
  {
   "cell_type": "code",
   "execution_count": 26,
   "id": "a3af5c37",
   "metadata": {},
   "outputs": [
    {
     "data": {
      "text/plain": [
       "array([ 9, 19, 29])"
      ]
     },
     "execution_count": 26,
     "metadata": {},
     "output_type": "execute_result"
    }
   ],
   "source": [
    "import numpy as np\n",
    "n1=np.array([10, 20, 30])\n",
    "n1=n1-1\n",
    "n1"
   ]
  },
  {
   "cell_type": "code",
   "execution_count": 27,
   "id": "70abcf37",
   "metadata": {},
   "outputs": [],
   "source": [
    "#BASIC MULTIPLICATION"
   ]
  },
  {
   "cell_type": "code",
   "execution_count": 28,
   "id": "855f42aa",
   "metadata": {},
   "outputs": [
    {
     "data": {
      "text/plain": [
       "array([20, 40, 60])"
      ]
     },
     "execution_count": 28,
     "metadata": {},
     "output_type": "execute_result"
    }
   ],
   "source": [
    "import numpy as np\n",
    "n1= np.array([10, 20, 30])\n",
    "n1=n1*2\n",
    "n1"
   ]
  },
  {
   "cell_type": "code",
   "execution_count": 29,
   "id": "df82f1ee",
   "metadata": {},
   "outputs": [],
   "source": [
    "#BASIC DIVISION"
   ]
  },
  {
   "cell_type": "code",
   "execution_count": 30,
   "id": "9a92a662",
   "metadata": {},
   "outputs": [
    {
     "data": {
      "text/plain": [
       "array([ 5., 10., 15.])"
      ]
     },
     "execution_count": 30,
     "metadata": {},
     "output_type": "execute_result"
    }
   ],
   "source": [
    "import numpy as np\n",
    "n1=np.array([10, 20, 30])\n",
    "n1=n1/2\n",
    "n1"
   ]
  },
  {
   "cell_type": "code",
   "execution_count": null,
   "id": "7944c3cf",
   "metadata": {},
   "outputs": [],
   "source": []
  }
 ],
 "metadata": {
  "kernelspec": {
   "display_name": "Python 3 (ipykernel)",
   "language": "python",
   "name": "python3"
  },
  "language_info": {
   "codemirror_mode": {
    "name": "ipython",
    "version": 3
   },
   "file_extension": ".py",
   "mimetype": "text/x-python",
   "name": "python",
   "nbconvert_exporter": "python",
   "pygments_lexer": "ipython3",
   "version": "3.8.10"
  }
 },
 "nbformat": 4,
 "nbformat_minor": 5
}
