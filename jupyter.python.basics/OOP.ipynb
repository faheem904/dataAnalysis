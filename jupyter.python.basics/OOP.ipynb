{
 "cells": [
  {
   "cell_type": "code",
   "execution_count": 8,
   "id": "3ae01c1d",
   "metadata": {},
   "outputs": [],
   "source": [
    "class phone:\n",
    "    def set_color(self,color):\n",
    "        self.color = color\n",
    "        \n",
    "    def set_cost(self,cost):\n",
    "        self.cost = cost\n",
    "        \n",
    "    def show_color(self):\n",
    "        return self.color\n",
    "    \n",
    "    def show_cost(self):\n",
    "        return self.cost\n",
    "    \n",
    "    \n",
    "    def make_call(self):\n",
    "        print('I am making a call.')\n",
    "        \n",
    "    def play_game(self):\n",
    "        print('I am playing a game!')"
   ]
  },
  {
   "cell_type": "code",
   "execution_count": 9,
   "id": "9e28a4ba",
   "metadata": {},
   "outputs": [],
   "source": [
    "android = phone()"
   ]
  },
  {
   "cell_type": "code",
   "execution_count": 10,
   "id": "cebaf624",
   "metadata": {},
   "outputs": [],
   "source": [
    "android.set_color('black')"
   ]
  },
  {
   "cell_type": "code",
   "execution_count": 11,
   "id": "f0d49db8",
   "metadata": {},
   "outputs": [],
   "source": [
    "android. set_cost('10000')"
   ]
  },
  {
   "cell_type": "code",
   "execution_count": 12,
   "id": "9fbc2ddd",
   "metadata": {},
   "outputs": [
    {
     "name": "stdout",
     "output_type": "stream",
     "text": [
      "I am maing a call.\n",
      "I am playing a game!\n"
     ]
    }
   ],
   "source": [
    "android.show_color()\n",
    "android.show_cost()\n",
    "android.make_call()\n",
    "android.play_game()"
   ]
  },
  {
   "cell_type": "code",
   "execution_count": 13,
   "id": "46161315",
   "metadata": {},
   "outputs": [
    {
     "data": {
      "text/plain": [
       "'black'"
      ]
     },
     "execution_count": 13,
     "metadata": {},
     "output_type": "execute_result"
    }
   ],
   "source": [
    "android.show_color()"
   ]
  },
  {
   "cell_type": "code",
   "execution_count": 14,
   "id": "855d0cad",
   "metadata": {},
   "outputs": [
    {
     "data": {
      "text/plain": [
       "'10000'"
      ]
     },
     "execution_count": 14,
     "metadata": {},
     "output_type": "execute_result"
    }
   ],
   "source": [
    "android.show_cost()"
   ]
  },
  {
   "cell_type": "code",
   "execution_count": null,
   "id": "68f76643",
   "metadata": {},
   "outputs": [],
   "source": []
  }
 ],
 "metadata": {
  "kernelspec": {
   "display_name": "Python 3 (ipykernel)",
   "language": "python",
   "name": "python3"
  },
  "language_info": {
   "codemirror_mode": {
    "name": "ipython",
    "version": 3
   },
   "file_extension": ".py",
   "mimetype": "text/x-python",
   "name": "python",
   "nbconvert_exporter": "python",
   "pygments_lexer": "ipython3",
   "version": "3.8.10"
  }
 },
 "nbformat": 4,
 "nbformat_minor": 5
}
