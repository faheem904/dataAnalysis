{
 "cells": [
  {
   "cell_type": "code",
   "execution_count": 12,
   "id": "73ac3300",
   "metadata": {},
   "outputs": [],
   "source": [
    "class vehicle:\n",
    "    def __init__(self, milage,cost):\n",
    "        self.milage = milage\n",
    "        self.cost = cost\n",
    "    def show_vehicle_details(self):\n",
    "        print(\"Mileage of vehicle is \", self.milage)\n",
    "        print(\"Cost of Vehicle is \", self.cost)\n",
    "        print('I am a vehicle')"
   ]
  },
  {
   "cell_type": "code",
   "execution_count": 21,
   "id": "a20aaebe",
   "metadata": {},
   "outputs": [],
   "source": [
    "class car(vehicle):\n",
    "    def __init__(self,milage,cost,tyres,hp):\n",
    "        super().__init__(milage,cost)\n",
    "        self.tyres = tyres\n",
    "        self.hp = hp\n",
    "    def show_car_details(self):\n",
    "        print(\"I am a car\")\n",
    "        print(\"Number of tyres are\", self.tyres)\n",
    "        print('Value of horse power is ', self.hp)"
   ]
  },
  {
   "cell_type": "code",
   "execution_count": 22,
   "id": "7b9ac55c",
   "metadata": {},
   "outputs": [],
   "source": [
    "c1 = car(20,12000,4,300)"
   ]
  },
  {
   "cell_type": "code",
   "execution_count": 17,
   "id": "d4cc111d",
   "metadata": {},
   "outputs": [
    {
     "name": "stdout",
     "output_type": "stream",
     "text": [
      "I am a car\n",
      "Number of tyres are 4\n",
      "Value of horse power is  300\n"
     ]
    }
   ],
   "source": [
    "c1.show_car_details()"
   ]
  },
  {
   "cell_type": "code",
   "execution_count": 18,
   "id": "b1db96af",
   "metadata": {},
   "outputs": [
    {
     "name": "stdout",
     "output_type": "stream",
     "text": [
      "Mileage of vehicle is  20\n",
      "Cost of Vehicle is  12000\n",
      "I am a vehicle\n"
     ]
    }
   ],
   "source": [
    "c1.show_vehicle_details()"
   ]
  },
  {
   "cell_type": "code",
   "execution_count": null,
   "id": "1a4600fe",
   "metadata": {},
   "outputs": [],
   "source": []
  }
 ],
 "metadata": {
  "kernelspec": {
   "display_name": "Python 3 (ipykernel)",
   "language": "python",
   "name": "python3"
  },
  "language_info": {
   "codemirror_mode": {
    "name": "ipython",
    "version": 3
   },
   "file_extension": ".py",
   "mimetype": "text/x-python",
   "name": "python",
   "nbconvert_exporter": "python",
   "pygments_lexer": "ipython3",
   "version": "3.8.10"
  }
 },
 "nbformat": 4,
 "nbformat_minor": 5
}
