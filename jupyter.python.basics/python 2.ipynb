{
 "cells": [
  {
   "cell_type": "code",
   "execution_count": 2,
   "id": "28c31cbd",
   "metadata": {},
   "outputs": [],
   "source": [
    "d1 = {\"apple\": 50, \"mango\": 100, \"guava\": 200, \"banana\": 500}"
   ]
  },
  {
   "cell_type": "code",
   "execution_count": 3,
   "id": "4de03841",
   "metadata": {},
   "outputs": [
    {
     "data": {
      "text/plain": [
       "dict_keys(['apple', 'mango', 'guava', 'banana'])"
      ]
     },
     "execution_count": 3,
     "metadata": {},
     "output_type": "execute_result"
    }
   ],
   "source": [
    "d1.keys()"
   ]
  },
  {
   "cell_type": "code",
   "execution_count": 5,
   "id": "b02113e8",
   "metadata": {},
   "outputs": [
    {
     "data": {
      "text/plain": [
       "dict_values([50, 100, 200, 500])"
      ]
     },
     "execution_count": 5,
     "metadata": {},
     "output_type": "execute_result"
    }
   ],
   "source": [
    "d1.values()"
   ]
  },
  {
   "cell_type": "code",
   "execution_count": 6,
   "id": "4f88bfa6",
   "metadata": {},
   "outputs": [],
   "source": [
    "d1[\"cherry\"] = 300"
   ]
  },
  {
   "cell_type": "code",
   "execution_count": 7,
   "id": "caeb5eea",
   "metadata": {},
   "outputs": [
    {
     "data": {
      "text/plain": [
       "{'apple': 50, 'mango': 100, 'guava': 200, 'banana': 500, 'cherry': 300}"
      ]
     },
     "execution_count": 7,
     "metadata": {},
     "output_type": "execute_result"
    }
   ],
   "source": [
    "d1"
   ]
  },
  {
   "cell_type": "code",
   "execution_count": 8,
   "id": "9e3461b5",
   "metadata": {},
   "outputs": [],
   "source": [
    "d1['apple'] = 70"
   ]
  },
  {
   "cell_type": "code",
   "execution_count": 9,
   "id": "61e58b4e",
   "metadata": {},
   "outputs": [
    {
     "data": {
      "text/plain": [
       "{'apple': 70, 'mango': 100, 'guava': 200, 'banana': 500, 'cherry': 300}"
      ]
     },
     "execution_count": 9,
     "metadata": {},
     "output_type": "execute_result"
    }
   ],
   "source": [
    "d1"
   ]
  },
  {
   "cell_type": "code",
   "execution_count": 10,
   "id": "595e0ea6",
   "metadata": {},
   "outputs": [],
   "source": [
    "d1['orange'] = 250"
   ]
  },
  {
   "cell_type": "code",
   "execution_count": 11,
   "id": "5ef321f4",
   "metadata": {},
   "outputs": [
    {
     "data": {
      "text/plain": [
       "{'apple': 70,\n",
       " 'mango': 100,\n",
       " 'guava': 200,\n",
       " 'banana': 500,\n",
       " 'cherry': 300,\n",
       " 'orange': 250}"
      ]
     },
     "execution_count": 11,
     "metadata": {},
     "output_type": "execute_result"
    }
   ],
   "source": [
    "d1"
   ]
  },
  {
   "cell_type": "code",
   "execution_count": 12,
   "id": "17976d57",
   "metadata": {},
   "outputs": [],
   "source": [
    "d2 ={\"graps\": 800, \"berry\": 40 }"
   ]
  },
  {
   "cell_type": "code",
   "execution_count": 13,
   "id": "7662e1d3",
   "metadata": {},
   "outputs": [
    {
     "data": {
      "text/plain": [
       "250"
      ]
     },
     "execution_count": 13,
     "metadata": {},
     "output_type": "execute_result"
    }
   ],
   "source": [
    "d1.pop('orange')"
   ]
  },
  {
   "cell_type": "code",
   "execution_count": 14,
   "id": "8afdba8b",
   "metadata": {},
   "outputs": [
    {
     "data": {
      "text/plain": [
       "{'apple': 70, 'mango': 100, 'guava': 200, 'banana': 500, 'cherry': 300}"
      ]
     },
     "execution_count": 14,
     "metadata": {},
     "output_type": "execute_result"
    }
   ],
   "source": [
    "d1"
   ]
  },
  {
   "cell_type": "code",
   "execution_count": 16,
   "id": "c709498a",
   "metadata": {},
   "outputs": [
    {
     "data": {
      "text/plain": [
       "dict_keys(['apple', 'mango', 'guava', 'banana', 'cherry'])"
      ]
     },
     "execution_count": 16,
     "metadata": {},
     "output_type": "execute_result"
    }
   ],
   "source": [
    "d1.keys()\n"
   ]
  },
  {
   "cell_type": "code",
   "execution_count": 18,
   "id": "bb6ded91",
   "metadata": {},
   "outputs": [
    {
     "data": {
      "text/plain": [
       "dict_keys(['graps', 'berry'])"
      ]
     },
     "execution_count": 18,
     "metadata": {},
     "output_type": "execute_result"
    }
   ],
   "source": [
    "d2.keys()"
   ]
  },
  {
   "cell_type": "code",
   "execution_count": 19,
   "id": "261ed38e",
   "metadata": {},
   "outputs": [],
   "source": [
    "d1.update(d2)"
   ]
  },
  {
   "cell_type": "code",
   "execution_count": 20,
   "id": "53699a08",
   "metadata": {},
   "outputs": [
    {
     "data": {
      "text/plain": [
       "{'apple': 70,\n",
       " 'mango': 100,\n",
       " 'guava': 200,\n",
       " 'banana': 500,\n",
       " 'cherry': 300,\n",
       " 'graps': 800,\n",
       " 'berry': 40}"
      ]
     },
     "execution_count": 20,
     "metadata": {},
     "output_type": "execute_result"
    }
   ],
   "source": [
    "d1"
   ]
  },
  {
   "cell_type": "code",
   "execution_count": 22,
   "id": "6db0d3bf",
   "metadata": {},
   "outputs": [
    {
     "data": {
      "text/plain": [
       "200"
      ]
     },
     "execution_count": 22,
     "metadata": {},
     "output_type": "execute_result"
    }
   ],
   "source": [
    "d1.pop('guava')"
   ]
  },
  {
   "cell_type": "code",
   "execution_count": 23,
   "id": "84e08f68",
   "metadata": {},
   "outputs": [
    {
     "data": {
      "text/plain": [
       "{'apple': 70,\n",
       " 'mango': 100,\n",
       " 'banana': 500,\n",
       " 'cherry': 300,\n",
       " 'graps': 800,\n",
       " 'berry': 40}"
      ]
     },
     "execution_count": 23,
     "metadata": {},
     "output_type": "execute_result"
    }
   ],
   "source": [
    "d1"
   ]
  },
  {
   "cell_type": "code",
   "execution_count": 28,
   "id": "4dc6bb92",
   "metadata": {},
   "outputs": [
    {
     "data": {
      "text/plain": [
       "40"
      ]
     },
     "execution_count": 28,
     "metadata": {},
     "output_type": "execute_result"
    }
   ],
   "source": [
    "d1.pop(\"berry\")"
   ]
  },
  {
   "cell_type": "code",
   "execution_count": 29,
   "id": "ce99d9b8",
   "metadata": {},
   "outputs": [
    {
     "data": {
      "text/plain": [
       "{'apple': 70, 'mango': 100, 'banana': 500, 'cherry': 300, 'graps': 800}"
      ]
     },
     "execution_count": 29,
     "metadata": {},
     "output_type": "execute_result"
    }
   ],
   "source": [
    "d1"
   ]
  },
  {
   "cell_type": "code",
   "execution_count": null,
   "id": "69ffc3a9",
   "metadata": {},
   "outputs": [],
   "source": []
  }
 ],
 "metadata": {
  "kernelspec": {
   "display_name": "Python 3 (ipykernel)",
   "language": "python",
   "name": "python3"
  },
  "language_info": {
   "codemirror_mode": {
    "name": "ipython",
    "version": 3
   },
   "file_extension": ".py",
   "mimetype": "text/x-python",
   "name": "python",
   "nbconvert_exporter": "python",
   "pygments_lexer": "ipython3",
   "version": "3.8.10"
  }
 },
 "nbformat": 4,
 "nbformat_minor": 5
}
