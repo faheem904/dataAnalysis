{
 "cells": [
  {
   "cell_type": "code",
   "execution_count": 39,
   "id": "a9fe1db0",
   "metadata": {},
   "outputs": [],
   "source": [
    "# Mean, Median, Standard Deviation"
   ]
  },
  {
   "cell_type": "code",
   "execution_count": 40,
   "id": "c00c9aff",
   "metadata": {},
   "outputs": [],
   "source": [
    "# Mean"
   ]
  },
  {
   "cell_type": "code",
   "execution_count": 41,
   "id": "6f963bc9",
   "metadata": {},
   "outputs": [
    {
     "data": {
      "text/plain": [
       "35.0"
      ]
     },
     "execution_count": 41,
     "metadata": {},
     "output_type": "execute_result"
    }
   ],
   "source": [
    "import numpy as np\n",
    "n1 = np.array([10, 20, 30, 40, 50, 60])\n",
    "np.mean(n1)"
   ]
  },
  {
   "cell_type": "code",
   "execution_count": 42,
   "id": "65fc1213",
   "metadata": {},
   "outputs": [],
   "source": [
    "# Median"
   ]
  },
  {
   "cell_type": "code",
   "execution_count": 43,
   "id": "699b07a2",
   "metadata": {},
   "outputs": [
    {
     "data": {
      "text/plain": [
       "55.5"
      ]
     },
     "execution_count": 43,
     "metadata": {},
     "output_type": "execute_result"
    }
   ],
   "source": [
    "import numpy as np\n",
    "n1 = np.array([11, 44, 5, 96, 67, 85])\n",
    "np.median(n1)"
   ]
  },
  {
   "cell_type": "code",
   "execution_count": 44,
   "id": "e0598575",
   "metadata": {},
   "outputs": [],
   "source": [
    "# Standard Deviation"
   ]
  },
  {
   "cell_type": "code",
   "execution_count": 45,
   "id": "327bd2fd",
   "metadata": {},
   "outputs": [
    {
     "data": {
      "text/plain": [
       "36.59424666377065"
      ]
     },
     "execution_count": 45,
     "metadata": {},
     "output_type": "execute_result"
    }
   ],
   "source": [
    "import numpy as np\n",
    "n1 = np.array([1, 5, 3, 100, 4, 48])\n",
    "np.std(n1)"
   ]
  },
  {
   "cell_type": "code",
   "execution_count": 46,
   "id": "ad692dec",
   "metadata": {},
   "outputs": [],
   "source": [
    "n2 = np.random.randint(1, 50, 10)"
   ]
  },
  {
   "cell_type": "code",
   "execution_count": 47,
   "id": "1628111a",
   "metadata": {},
   "outputs": [
    {
     "data": {
      "text/plain": [
       "array([32, 19, 29, 35, 45,  4, 12,  8, 22, 23])"
      ]
     },
     "execution_count": 47,
     "metadata": {},
     "output_type": "execute_result"
    }
   ],
   "source": [
    "n2"
   ]
  },
  {
   "cell_type": "code",
   "execution_count": 48,
   "id": "c428210d",
   "metadata": {},
   "outputs": [
    {
     "data": {
      "text/plain": [
       "26.833333333333332"
      ]
     },
     "execution_count": 48,
     "metadata": {},
     "output_type": "execute_result"
    }
   ],
   "source": [
    "np.mean(n1)"
   ]
  },
  {
   "cell_type": "code",
   "execution_count": 50,
   "id": "cea08fa5",
   "metadata": {},
   "outputs": [
    {
     "data": {
      "text/plain": [
       "22.5"
      ]
     },
     "execution_count": 50,
     "metadata": {},
     "output_type": "execute_result"
    }
   ],
   "source": [
    "np.median(n2)"
   ]
  },
  {
   "cell_type": "code",
   "execution_count": 51,
   "id": "7f98eb3b",
   "metadata": {},
   "outputs": [
    {
     "data": {
      "text/plain": [
       "12.11981848048889"
      ]
     },
     "execution_count": 51,
     "metadata": {},
     "output_type": "execute_result"
    }
   ],
   "source": [
    "np.std(n2)"
   ]
  },
  {
   "cell_type": "code",
   "execution_count": null,
   "id": "5615fcee",
   "metadata": {},
   "outputs": [],
   "source": []
  }
 ],
 "metadata": {
  "kernelspec": {
   "display_name": "Python 3 (ipykernel)",
   "language": "python",
   "name": "python3"
  },
  "language_info": {
   "codemirror_mode": {
    "name": "ipython",
    "version": 3
   },
   "file_extension": ".py",
   "mimetype": "text/x-python",
   "name": "python",
   "nbconvert_exporter": "python",
   "pygments_lexer": "ipython3",
   "version": "3.8.10"
  }
 },
 "nbformat": 4,
 "nbformat_minor": 5
}
