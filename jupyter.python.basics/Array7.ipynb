{
 "cells": [
  {
   "cell_type": "code",
   "execution_count": 31,
   "id": "2e623944",
   "metadata": {},
   "outputs": [],
   "source": [
    "#BASIC SUBSTRACTION"
   ]
  },
  {
   "cell_type": "code",
   "execution_count": 27,
   "id": "c21c0893",
   "metadata": {},
   "outputs": [],
   "source": [
    "#BASIC MULTIPLICATION"
   ]
  },
  {
   "cell_type": "code",
   "execution_count": 32,
   "id": "338ba0f4",
   "metadata": {},
   "outputs": [],
   "source": [
    "#BASIC DIVISION"
   ]
  },
  {
   "cell_type": "code",
   "execution_count": 33,
   "id": "0bce5f8b",
   "metadata": {},
   "outputs": [
    {
     "data": {
      "text/plain": [
       "array([10, 30, 50])"
      ]
     },
     "execution_count": 33,
     "metadata": {},
     "output_type": "execute_result"
    }
   ],
   "source": [
    "n1 = np.array([10, 30, 50])\n",
    "n1"
   ]
  },
  {
   "cell_type": "code",
   "execution_count": 34,
   "id": "f281954c",
   "metadata": {},
   "outputs": [
    {
     "data": {
      "text/plain": [
       "array([15, 35, 55])"
      ]
     },
     "execution_count": 34,
     "metadata": {},
     "output_type": "execute_result"
    }
   ],
   "source": [
    "n1 + 5"
   ]
  },
  {
   "cell_type": "code",
   "execution_count": 36,
   "id": "45b29a38",
   "metadata": {},
   "outputs": [
    {
     "data": {
      "text/plain": [
       "array([ 5, 25, 45])"
      ]
     },
     "execution_count": 36,
     "metadata": {},
     "output_type": "execute_result"
    }
   ],
   "source": [
    "n1 - 5"
   ]
  },
  {
   "cell_type": "code",
   "execution_count": 37,
   "id": "9d6d8dcd",
   "metadata": {},
   "outputs": [
    {
     "data": {
      "text/plain": [
       "array([100, 300, 500])"
      ]
     },
     "execution_count": 37,
     "metadata": {},
     "output_type": "execute_result"
    }
   ],
   "source": [
    "n1 * 10"
   ]
  },
  {
   "cell_type": "code",
   "execution_count": 38,
   "id": "19c8c085",
   "metadata": {},
   "outputs": [
    {
     "data": {
      "text/plain": [
       "array([ 2.,  6., 10.])"
      ]
     },
     "execution_count": 38,
     "metadata": {},
     "output_type": "execute_result"
    }
   ],
   "source": [
    "n1 / 5"
   ]
  },
  {
   "cell_type": "code",
   "execution_count": null,
   "id": "637f0334",
   "metadata": {},
   "outputs": [],
   "source": []
  }
 ],
 "metadata": {
  "kernelspec": {
   "display_name": "Python 3 (ipykernel)",
   "language": "python",
   "name": "python3"
  },
  "language_info": {
   "codemirror_mode": {
    "name": "ipython",
    "version": 3
   },
   "file_extension": ".py",
   "mimetype": "text/x-python",
   "name": "python",
   "nbconvert_exporter": "python",
   "pygments_lexer": "ipython3",
   "version": "3.8.10"
  }
 },
 "nbformat": 4,
 "nbformat_minor": 5
}
