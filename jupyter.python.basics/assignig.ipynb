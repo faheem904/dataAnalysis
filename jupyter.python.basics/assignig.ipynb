{
 "cells": [
  {
   "cell_type": "code",
   "execution_count": 1,
   "id": "2bfecd2d",
   "metadata": {},
   "outputs": [],
   "source": [
    "tup1 = ('a', 'b', 'c')"
   ]
  },
  {
   "cell_type": "code",
   "execution_count": 4,
   "id": "d8aa1b43",
   "metadata": {},
   "outputs": [],
   "source": [
    "l1 = ['a', 'b', 'c']"
   ]
  },
  {
   "cell_type": "code",
   "execution_count": 5,
   "id": "058aeb32",
   "metadata": {},
   "outputs": [],
   "source": [
    "if l1[1]=='b':\n",
    "    l1[1]='z'\n",
    "    l1"
   ]
  },
  {
   "cell_type": "code",
   "execution_count": 6,
   "id": "4e91d37e",
   "metadata": {},
   "outputs": [
    {
     "data": {
      "text/plain": [
       "['a', 'z', 'c']"
      ]
     },
     "execution_count": 6,
     "metadata": {},
     "output_type": "execute_result"
    }
   ],
   "source": [
    "l1"
   ]
  },
  {
   "cell_type": "code",
   "execution_count": 7,
   "id": "fe972f42",
   "metadata": {},
   "outputs": [],
   "source": [
    "d1 = {'k1': 10, \"k2\": 20, 'k3': 30}"
   ]
  },
  {
   "cell_type": "code",
   "execution_count": 8,
   "id": "8056145d",
   "metadata": {},
   "outputs": [],
   "source": [
    "if d1['k3'] == 30:\n",
    "    d1['k3']= d1['k3']+100"
   ]
  },
  {
   "cell_type": "code",
   "execution_count": 9,
   "id": "63153ad2",
   "metadata": {},
   "outputs": [
    {
     "data": {
      "text/plain": [
       "{'k1': 10, 'k2': 20, 'k3': 130}"
      ]
     },
     "execution_count": 9,
     "metadata": {},
     "output_type": "execute_result"
    }
   ],
   "source": [
    "d1"
   ]
  },
  {
   "cell_type": "code",
   "execution_count": null,
   "id": "593e7c5a",
   "metadata": {},
   "outputs": [],
   "source": []
  }
 ],
 "metadata": {
  "kernelspec": {
   "display_name": "Python 3 (ipykernel)",
   "language": "python",
   "name": "python3"
  },
  "language_info": {
   "codemirror_mode": {
    "name": "ipython",
    "version": 3
   },
   "file_extension": ".py",
   "mimetype": "text/x-python",
   "name": "python",
   "nbconvert_exporter": "python",
   "pygments_lexer": "ipython3",
   "version": "3.8.10"
  }
 },
 "nbformat": 4,
 "nbformat_minor": 5
}
