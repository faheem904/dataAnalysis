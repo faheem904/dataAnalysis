{
 "cells": [
  {
   "cell_type": "code",
   "execution_count": 86,
   "id": "ec8430db",
   "metadata": {},
   "outputs": [],
   "source": [
    "tup1 = (1, True, 3.4, 5-7j)"
   ]
  },
  {
   "cell_type": "code",
   "execution_count": 87,
   "id": "5495c63f",
   "metadata": {},
   "outputs": [
    {
     "data": {
      "text/plain": [
       "(1, True, 3.4, (5-7j))"
      ]
     },
     "execution_count": 87,
     "metadata": {},
     "output_type": "execute_result"
    }
   ],
   "source": [
    "tup1"
   ]
  },
  {
   "cell_type": "code",
   "execution_count": 88,
   "id": "c753315e",
   "metadata": {},
   "outputs": [
    {
     "data": {
      "text/plain": [
       "tuple"
      ]
     },
     "execution_count": 88,
     "metadata": {},
     "output_type": "execute_result"
    }
   ],
   "source": [
    "type(tup1)"
   ]
  },
  {
   "cell_type": "code",
   "execution_count": 89,
   "id": "fcc9bc98",
   "metadata": {},
   "outputs": [
    {
     "data": {
      "text/plain": [
       "(5-7j)"
      ]
     },
     "execution_count": 89,
     "metadata": {},
     "output_type": "execute_result"
    }
   ],
   "source": [
    "tup1[-1]"
   ]
  },
  {
   "cell_type": "code",
   "execution_count": 91,
   "id": "cb16b52d",
   "metadata": {},
   "outputs": [
    {
     "data": {
      "text/plain": [
       "True"
      ]
     },
     "execution_count": 91,
     "metadata": {},
     "output_type": "execute_result"
    }
   ],
   "source": [
    "tup1[1]"
   ]
  },
  {
   "cell_type": "code",
   "execution_count": null,
   "id": "a63f25d9",
   "metadata": {},
   "outputs": [],
   "source": []
  },
  {
   "cell_type": "code",
   "execution_count": 95,
   "id": "7e0074f0",
   "metadata": {},
   "outputs": [],
   "source": [
    "tup1 = (1,2,3)\n",
    "tup2 = (3,4,5)"
   ]
  },
  {
   "cell_type": "code",
   "execution_count": 96,
   "id": "87aaff4f",
   "metadata": {},
   "outputs": [
    {
     "data": {
      "text/plain": [
       "(1, 2, 3, 3, 4, 5)"
      ]
     },
     "execution_count": 96,
     "metadata": {},
     "output_type": "execute_result"
    }
   ],
   "source": [
    "tup1+tup2"
   ]
  },
  {
   "cell_type": "code",
   "execution_count": 97,
   "id": "02537281",
   "metadata": {},
   "outputs": [
    {
     "data": {
      "text/plain": [
       "3"
      ]
     },
     "execution_count": 97,
     "metadata": {},
     "output_type": "execute_result"
    }
   ],
   "source": [
    "len(tup1)"
   ]
  },
  {
   "cell_type": "code",
   "execution_count": 98,
   "id": "db189a97",
   "metadata": {},
   "outputs": [
    {
     "data": {
      "text/plain": [
       "(3, 4, 5, 1, 2, 3)"
      ]
     },
     "execution_count": 98,
     "metadata": {},
     "output_type": "execute_result"
    }
   ],
   "source": [
    "tup2+tup1"
   ]
  },
  {
   "cell_type": "code",
   "execution_count": 99,
   "id": "a9788bbf",
   "metadata": {},
   "outputs": [
    {
     "data": {
      "text/plain": [
       "('price', 500, 'price', 500, 'price', 500, 'price', 500, 'price', 500)"
      ]
     },
     "execution_count": 99,
     "metadata": {},
     "output_type": "execute_result"
    }
   ],
   "source": [
    "tup = ('price', 500)\n",
    "tup*5"
   ]
  },
  {
   "cell_type": "code",
   "execution_count": 100,
   "id": "d5a0595f",
   "metadata": {},
   "outputs": [
    {
     "data": {
      "text/plain": [
       "('price', 500, 'price', 500, 'price', 500, 'price', 500, 'price', 500, 3, 4, 5)"
      ]
     },
     "execution_count": 100,
     "metadata": {},
     "output_type": "execute_result"
    }
   ],
   "source": [
    "tup*5 + tup2"
   ]
  },
  {
   "cell_type": "code",
   "execution_count": 101,
   "id": "a791e5a5",
   "metadata": {},
   "outputs": [],
   "source": [
    "tup3 = (10, 20, 30, 40, 50)\n"
   ]
  },
  {
   "cell_type": "code",
   "execution_count": 102,
   "id": "63b05410",
   "metadata": {},
   "outputs": [
    {
     "data": {
      "text/plain": [
       "10"
      ]
     },
     "execution_count": 102,
     "metadata": {},
     "output_type": "execute_result"
    }
   ],
   "source": [
    "min(tup3)"
   ]
  },
  {
   "cell_type": "code",
   "execution_count": 103,
   "id": "7320058b",
   "metadata": {},
   "outputs": [
    {
     "data": {
      "text/plain": [
       "50"
      ]
     },
     "execution_count": 103,
     "metadata": {},
     "output_type": "execute_result"
    }
   ],
   "source": [
    "max(tup3)"
   ]
  },
  {
   "cell_type": "code",
   "execution_count": 104,
   "id": "d3516c63",
   "metadata": {},
   "outputs": [],
   "source": [
    "l1  = [1, 'sparta', True]"
   ]
  },
  {
   "cell_type": "code",
   "execution_count": 105,
   "id": "6a1cd4c1",
   "metadata": {},
   "outputs": [
    {
     "data": {
      "text/plain": [
       "list"
      ]
     },
     "execution_count": 105,
     "metadata": {},
     "output_type": "execute_result"
    }
   ],
   "source": [
    "type(l1)"
   ]
  },
  {
   "cell_type": "code",
   "execution_count": 107,
   "id": "e9c4b39a",
   "metadata": {},
   "outputs": [
    {
     "data": {
      "text/plain": [
       "True"
      ]
     },
     "execution_count": 107,
     "metadata": {},
     "output_type": "execute_result"
    }
   ],
   "source": [
    "l1[2]"
   ]
  },
  {
   "cell_type": "code",
   "execution_count": 108,
   "id": "92a312e9",
   "metadata": {},
   "outputs": [
    {
     "data": {
      "text/plain": [
       "True"
      ]
     },
     "execution_count": 108,
     "metadata": {},
     "output_type": "execute_result"
    }
   ],
   "source": [
    "l1[-1]"
   ]
  },
  {
   "cell_type": "code",
   "execution_count": 109,
   "id": "53956b95",
   "metadata": {},
   "outputs": [
    {
     "data": {
      "text/plain": [
       "[1, 'sparta']"
      ]
     },
     "execution_count": 109,
     "metadata": {},
     "output_type": "execute_result"
    }
   ],
   "source": [
    "l1[:2]"
   ]
  },
  {
   "cell_type": "code",
   "execution_count": 110,
   "id": "eafd62b0",
   "metadata": {},
   "outputs": [],
   "source": [
    "l1[0] = 100"
   ]
  },
  {
   "cell_type": "code",
   "execution_count": 111,
   "id": "2ffe4894",
   "metadata": {},
   "outputs": [
    {
     "data": {
      "text/plain": [
       "[100, 'sparta', True]"
      ]
     },
     "execution_count": 111,
     "metadata": {},
     "output_type": "execute_result"
    }
   ],
   "source": [
    "l1"
   ]
  },
  {
   "cell_type": "code",
   "execution_count": 112,
   "id": "6ad5d6b6",
   "metadata": {},
   "outputs": [
    {
     "data": {
      "text/plain": [
       "True"
      ]
     },
     "execution_count": 112,
     "metadata": {},
     "output_type": "execute_result"
    }
   ],
   "source": [
    "l1.pop()"
   ]
  },
  {
   "cell_type": "code",
   "execution_count": 113,
   "id": "af1300d2",
   "metadata": {},
   "outputs": [
    {
     "data": {
      "text/plain": [
       "[100, 'sparta']"
      ]
     },
     "execution_count": 113,
     "metadata": {},
     "output_type": "execute_result"
    }
   ],
   "source": [
    "l1"
   ]
  },
  {
   "cell_type": "code",
   "execution_count": 114,
   "id": "ff151b90",
   "metadata": {},
   "outputs": [],
   "source": [
    "l1.append(-80.99)"
   ]
  },
  {
   "cell_type": "code",
   "execution_count": 115,
   "id": "938a0f82",
   "metadata": {},
   "outputs": [
    {
     "data": {
      "text/plain": [
       "[100, 'sparta', -80.99]"
      ]
     },
     "execution_count": 115,
     "metadata": {},
     "output_type": "execute_result"
    }
   ],
   "source": [
    "l1"
   ]
  },
  {
   "cell_type": "code",
   "execution_count": 116,
   "id": "9a635536",
   "metadata": {},
   "outputs": [],
   "source": [
    "l1.reverse()"
   ]
  },
  {
   "cell_type": "code",
   "execution_count": 117,
   "id": "82e9d726",
   "metadata": {},
   "outputs": [
    {
     "data": {
      "text/plain": [
       "[-80.99, 'sparta', 100]"
      ]
     },
     "execution_count": 117,
     "metadata": {},
     "output_type": "execute_result"
    }
   ],
   "source": [
    "l1"
   ]
  },
  {
   "cell_type": "code",
   "execution_count": 118,
   "id": "5fe3d6df",
   "metadata": {},
   "outputs": [],
   "source": [
    "l1.insert(1, 'apple')"
   ]
  },
  {
   "cell_type": "code",
   "execution_count": 119,
   "id": "3768a800",
   "metadata": {},
   "outputs": [
    {
     "data": {
      "text/plain": [
       "[-80.99, 'apple', 'sparta', 100]"
      ]
     },
     "execution_count": 119,
     "metadata": {},
     "output_type": "execute_result"
    }
   ],
   "source": [
    "l1"
   ]
  },
  {
   "cell_type": "code",
   "execution_count": 120,
   "id": "d9917441",
   "metadata": {},
   "outputs": [],
   "source": [
    "l2 = ['mango', 'banana', 'guava', 'mango']"
   ]
  },
  {
   "cell_type": "code",
   "execution_count": 121,
   "id": "d05ec95b",
   "metadata": {},
   "outputs": [
    {
     "data": {
      "text/plain": [
       "['banana', 'guava', 'mango', 'mango']"
      ]
     },
     "execution_count": 121,
     "metadata": {},
     "output_type": "execute_result"
    }
   ],
   "source": [
    "l2.sort()\n",
    "l2"
   ]
  },
  {
   "cell_type": "code",
   "execution_count": 122,
   "id": "c848ace3",
   "metadata": {},
   "outputs": [],
   "source": [
    "l4 = ['one', 2, 3, 4, True]"
   ]
  },
  {
   "cell_type": "code",
   "execution_count": 123,
   "id": "e327f022",
   "metadata": {},
   "outputs": [],
   "source": [
    "l4.reverse()"
   ]
  },
  {
   "cell_type": "code",
   "execution_count": 124,
   "id": "5f9c5223",
   "metadata": {},
   "outputs": [
    {
     "data": {
      "text/plain": [
       "[True, 4, 3, 2, 'one']"
      ]
     },
     "execution_count": 124,
     "metadata": {},
     "output_type": "execute_result"
    }
   ],
   "source": [
    "l4"
   ]
  },
  {
   "cell_type": "code",
   "execution_count": 125,
   "id": "1a8b2bb0",
   "metadata": {},
   "outputs": [],
   "source": [
    "l4.insert(0, False)"
   ]
  },
  {
   "cell_type": "code",
   "execution_count": 126,
   "id": "07ddfe65",
   "metadata": {},
   "outputs": [
    {
     "data": {
      "text/plain": [
       "[False, True, 4, 3, 2, 'one']"
      ]
     },
     "execution_count": 126,
     "metadata": {},
     "output_type": "execute_result"
    }
   ],
   "source": [
    "l4"
   ]
  },
  {
   "cell_type": "code",
   "execution_count": 129,
   "id": "decf69ff",
   "metadata": {},
   "outputs": [],
   "source": [
    "l5 = ['a', 'g', 'r', 'd', 'c', 'b', 't', 'z', 'e']"
   ]
  },
  {
   "cell_type": "code",
   "execution_count": 130,
   "id": "17e329b4",
   "metadata": {},
   "outputs": [
    {
     "data": {
      "text/plain": [
       "['a', 'b', 'c', 'd', 'e', 'g', 'r', 't', 'z']"
      ]
     },
     "execution_count": 130,
     "metadata": {},
     "output_type": "execute_result"
    }
   ],
   "source": [
    "l5.sort()\n",
    "l5"
   ]
  },
  {
   "cell_type": "code",
   "execution_count": 131,
   "id": "38a37129",
   "metadata": {},
   "outputs": [],
   "source": [
    "l6 = ['wah', 'wa']"
   ]
  },
  {
   "cell_type": "code",
   "execution_count": 132,
   "id": "866352ae",
   "metadata": {},
   "outputs": [
    {
     "data": {
      "text/plain": [
       "['wah', 'wa', 'wah', 'wa', 'wah', 'wa', 'wah', 'wa', 'wah', 'wa']"
      ]
     },
     "execution_count": 132,
     "metadata": {},
     "output_type": "execute_result"
    }
   ],
   "source": [
    "l6*5"
   ]
  },
  {
   "cell_type": "code",
   "execution_count": null,
   "id": "d657a532",
   "metadata": {},
   "outputs": [],
   "source": []
  }
 ],
 "metadata": {
  "kernelspec": {
   "display_name": "Python 3 (ipykernel)",
   "language": "python",
   "name": "python3"
  },
  "language_info": {
   "codemirror_mode": {
    "name": "ipython",
    "version": 3
   },
   "file_extension": ".py",
   "mimetype": "text/x-python",
   "name": "python",
   "nbconvert_exporter": "python",
   "pygments_lexer": "ipython3",
   "version": "3.8.10"
  }
 },
 "nbformat": 4,
 "nbformat_minor": 5
}
